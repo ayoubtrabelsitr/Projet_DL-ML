{
  "nbformat": 4,
  "nbformat_minor": 0,
  "metadata": {
    "colab": {
      "provenance": []
    },
    "kernelspec": {
      "name": "python3",
      "display_name": "Python 3"
    },
    "language_info": {
      "name": "python"
    }
  },
  "cells": [
    {
      "cell_type": "markdown",
      "source": [
        "#**1-KPPV**\n",
        "\n",
        "\n",
        "\n",
        "\n",
        "\n"
      ],
      "metadata": {
        "id": "AA2KQbmjiC_x"
      }
    },
    {
      "cell_type": "markdown",
      "source": [
        "###**Importation des bibliothèques:**"
      ],
      "metadata": {
        "id": "kgQaxHJ8iaEh"
      }
    },
    {
      "cell_type": "code",
      "source": [
        "import numpy as np\n",
        "import matplotlib.pyplot as plt\n",
        "import random\n",
        "import os\n",
        "from sklearn import metrics\n",
        "from collections import Counter"
      ],
      "metadata": {
        "id": "Bj23zsUohaDa"
      },
      "execution_count": null,
      "outputs": []
    },
    {
      "cell_type": "markdown",
      "source": [
        "### **Données d'apprentissage:**\n"
      ],
      "metadata": {
        "id": "Gka0N9e6iXyD"
      }
    },
    {
      "cell_type": "code",
      "source": [],
      "metadata": {
        "id": "1QetWYo3MlUo"
      },
      "execution_count": null,
      "outputs": []
    },
    {
      "cell_type": "markdown",
      "source": [],
      "metadata": {
        "id": "bV_KF-gEn0WD"
      }
    },
    {
      "cell_type": "code",
      "source": [
        "mean1 = [2, 2]\n",
        "#mean1 = [4, 4]\n",
        "cov1 = [[1, 0], [0, 1]] #\n",
        "data1 = np.transpose(np.random.multivariate_normal(mean1, cov1, 128))\n",
        "mean2 = [-1, -1]\n",
        "#mean2 = [-4, -4]\n",
        "cov2 = [[4, 0], [0, 4]] #\n",
        "data2 = np.transpose(np.random.multivariate_normal(mean2, cov2, 128))\n",
        "data=np.concatenate((data1, data2), axis=1)\n",
        "oracle=np.concatenate((np.zeros(128),np.ones(128)))\n"
      ],
      "metadata": {
        "id": "7SXCKO-TmJl3"
      },
      "execution_count": null,
      "outputs": []
    },
    {
      "cell_type": "markdown",
      "source": [
        "###**Données de test:**"
      ],
      "metadata": {
        "id": "ymaC93uOmqD9"
      }
    },
    {
      "cell_type": "code",
      "source": [
        "test1=np.transpose(np.random.multivariate_normal(mean1, cov1, 64))\n",
        "test2=np.transpose(np.random.multivariate_normal(mean2, cov2,64))\n",
        "test=np.concatenate((test1,test2), axis=1)"
      ],
      "metadata": {
        "id": "Baeeen47nVp9"
      },
      "execution_count": null,
      "outputs": []
    },
    {
      "cell_type": "markdown",
      "source": [
        "### **Définition de la variable K:**"
      ],
      "metadata": {
        "id": "SbyOGchgnwKH"
      }
    },
    {
      "cell_type": "code",
      "source": [
        "K=2"
      ],
      "metadata": {
        "id": "wkLog5QspR7H"
      },
      "execution_count": null,
      "outputs": []
    },
    {
      "cell_type": "markdown",
      "source": [
        "### **Définition de la fonction KPPV et de la fonction de distance euclidienne:**"
      ],
      "metadata": {
        "id": "V2YoLvVW20m3"
      }
    },
    {
      "cell_type": "code",
      "source": [
        "def kppv(x,appren,oracle,K):\n",
        "  def distance_euclidienne (p1x,p2x,p1y,p2y):\n",
        "    return np.sqrt((p2x-p1x)**2 + (p2y-p1y)**2)\n",
        "  clas=[]\n",
        "  v=len(x[0])\n",
        "  for i in range(0,v):\n",
        "      dis=[]\n",
        "      clss=[]\n",
        "      kppp=[]\n",
        "      v2=len(appren[0])\n",
        "      j=0\n",
        "      while j<v2:\n",
        "         dis.append(distance_euclidienne(appren[0][j],x[0][i],appren[1][j],x[1][i]) )\n",
        "         j=j+1\n",
        "      clss.append(dis)\n",
        "      clss.append(oracle)\n",
        "      clss=np.transpose(clss)\n",
        "      clss = clss[clss[:,0].argsort()]\n",
        "      clss=np.transpose(clss)\n",
        "      kppp=clss[1][:K]\n",
        "      ms=Counter(kppp).most_common()[0][0]\n",
        "      clas.append(ms)\n",
        "  res = np.array(clas)\n",
        "  return res"
      ],
      "metadata": {
        "id": "sP0B7Avfw-c0"
      },
      "execution_count": null,
      "outputs": []
    },
    {
      "cell_type": "markdown",
      "source": [
        "### **Affichage des données d'apprentissage et des données de test:**"
      ],
      "metadata": {
        "id": "-LDCaEqm5zQV"
      }
    },
    {
      "cell_type": "code",
      "source": [
        "ax = plt.subplot(111)\n",
        "plt.scatter(test[0], test[1], color = 'yellow')\n",
        "plt.scatter(data1[0], data1[1], color = 'green')\n",
        "plt.scatter(data2[0], data2[1], color = 'red')\n",
        "\n",
        "ax.legend(( 'Test','Classe 1','Classe 2',))\n",
        "plt.plot()"
      ],
      "metadata": {
        "colab": {
          "base_uri": "https://localhost:8080/",
          "height": 282
        },
        "id": "x2KCn6Y46GLt",
        "outputId": "4552f36b-45ac-4d75-8fa5-2e9f96659781"
      },
      "execution_count": null,
      "outputs": [
        {
          "output_type": "execute_result",
          "data": {
            "text/plain": [
              "[]"
            ]
          },
          "metadata": {},
          "execution_count": 52
        },
        {
          "output_type": "display_data",
          "data": {
            "text/plain": [
              "<Figure size 432x288 with 1 Axes>"
            ],
            "image/png": "[encoded data removed]"
          },
          "metadata": {
            "needs_background": "light"
          }
        }
      ]
    },
    {
      "cell_type": "markdown",
      "source": [
        "### **Définition de la fonction d'affichage des classes des données:**"
      ],
      "metadata": {
        "id": "EU68C-c37inp"
      }
    },
    {
      "cell_type": "code",
      "source": [
        "def affiche_classe(x,clas,K):\n",
        " for k in range(0,K):\n",
        "  ind=(clas==k)\n",
        "  plt.plot(x[0,ind],x[1,ind],\"o\")\n",
        " plt.show()\n"
      ],
      "metadata": {
        "id": "l7ujiqwU65UH"
      },
      "execution_count": null,
      "outputs": []
    },
    {
      "cell_type": "markdown",
      "source": [
        "### **Affichage/erreur**"
      ],
      "metadata": {
        "id": "PxzzsREv7wMb"
      }
    },
    {
      "cell_type": "code",
      "source": [
        "clas=kppv(test,data,oracle,K)\n",
        "affiche_classe(test,clas,2)"
      ],
      "metadata": {
        "colab": {
          "base_uri": "https://localhost:8080/",
          "height": 265
        },
        "id": "wfVit9F-7FWA",
        "outputId": "d14986a1-9dd0-4335-fdd1-a9feccb85faf"
      },
      "execution_count": null,
      "outputs": [
        {
          "output_type": "display_data",
          "data": {
            "text/plain": [
              "<Figure size 432x288 with 1 Axes>"
            ],
            "image/png": "[encoded data removed]"
          },
          "metadata": {
            "needs_background": "light"
          }
        }
      ]
    },
    {
      "cell_type": "code",
      "source": [
        "test_erreur = np.concatenate((np.zeros(64),np.ones(64)))\n",
        "print('Précision',metrics.accuracy_score(test_erreur, clas))\n",
        "print('Erreur',1-metrics.accuracy_score(test_erreur, clas))\n"
      ],
      "metadata": {
        "colab": {
          "base_uri": "https://localhost:8080/"
        },
        "id": "g4Oy8exj-eA-",
        "outputId": "b478f755-d198-40f4-9224-0641beca550d"
      },
      "execution_count": null,
      "outputs": [
        {
          "output_type": "stream",
          "name": "stdout",
          "text": [
            "Précision 0.8828125\n",
            "Erreur 0.1171875\n"
          ]
        }
      ]
    },
    {
      "cell_type": "markdown",
      "source": [
        "# **2-Perceptron**"
      ],
      "metadata": {
        "id": "lxLknDKQMx9v"
      }
    },
    {
      "cell_type": "markdown",
      "source": [
        "### **Importation des bibliothèques:**"
      ],
      "metadata": {
        "id": "6yXL-RKnRbbv"
      }
    },
    {
      "cell_type": "code",
      "source": [
        "import numpy as np\n",
        "import matplotlib.pyplot as plt"
      ],
      "metadata": {
        "id": "jyhtsfGU1lcf"
      },
      "execution_count": null,
      "outputs": []
    },
    {
      "cell_type": "markdown",
      "source": [
        "### **Données de test:**"
      ],
      "metadata": {
        "id": "-Iqw63nBSPFz"
      }
    },
    {
      "cell_type": "code",
      "source": [
        "# Données de test\n",
        "mean1 = [0, 5]\n",
        "cov1 = [[1, 0], [0, 1]] #\n",
        "data1 = np.transpose(np.random.multivariate_normal(mean1, cov1, 128))\n",
        "mean2 = [-1, -3]\n",
        "cov2 = [[4, 0], [0, 4]] #\n",
        "data2 = np.transpose(np.random.multivariate_normal(mean2, cov2, 128))\n",
        "data=np.concatenate((data1, data2), axis=1)\n",
        "oracle=np.concatenate((np.zeros(128)-1,np.ones(128)))\n"
      ],
      "metadata": {
        "id": "-eJSSLl0SE0o"
      },
      "execution_count": null,
      "outputs": []
    },
    {
      "cell_type": "markdown",
      "source": [
        "### **Définition de la fonction perceptron:**"
      ],
      "metadata": {
        "id": "509J4GagRgGm"
      }
    },
    {
      "cell_type": "code",
      "source": [
        "def perceptron(x,w,active):\n",
        "  somme=(w[0]+(w[1]*x[0]+w[2]*x[1]))\n",
        "  if(active==0):#fonction d'activation\n",
        "    z=(np.sign(somme))\n",
        "  else:         #z=sign(w1*x1+w2*x2+b)\n",
        "    z=(np.tanh(somme))\n",
        "  return z      #z=tanh(w1*x1+w2*x2+b)"
      ],
      "metadata": {
        "id": "lZ2jdNSDPf6S"
      },
      "execution_count": null,
      "outputs": []
    },
    {
      "cell_type": "markdown",
      "source": [
        "### **Définition de la fonction apprentissage:**"
      ],
      "metadata": {
        "id": "epjtELEGRnLi"
      }
    },
    {
      "cell_type": "code",
      "source": [
        "def apprentissage(x,yd,active):\n",
        "  erreur=[] #tableau contient l'erreur de chaque itération\n",
        "  w=[0.5,1,1]   #initialisation de w1=1 w2=1 b=0.5\n",
        "  mdiff=0       #initialiser a 0 mdiff (somme des erreurs de chaque exemples)\n",
        "  for i in range (0,100): #100 itération\n",
        "    for j in range (256): #Parcourir toutes les entrées\n",
        "      y_a=perceptron([x[0][j],x[1][j]],w,active)\n",
        "      if (y_a!=yd[j]):\n",
        "        w[1]=w[1]+(0.1*(yd[j]-y_a)*x[0][j])  #Mise a jour des poids\n",
        "        w[2]=w[2]+(0.1*(yd[j]-y_a)*x[1][j])\n",
        "        w[0]=w[0]+(0.1*(yd[j]-y_a))          #Mise a jour de bias\n",
        "        mdiff= mdiff + (yd[i]-y_a)**2\n",
        "    print('Itération ',i)\n",
        "    print('W1=',w[1])\n",
        "    print('W2=',w[2])\n",
        "    print('b=',w[0])\n",
        "    erreur.append(mdiff)\n",
        "  print(erreur)\n",
        "\n",
        "  return w,erreur\n"
      ],
      "metadata": {
        "id": "7mH5fqX9gIvR"
      },
      "execution_count": null,
      "outputs": []
    },
    {
      "cell_type": "markdown",
      "source": [
        "### **Définition de la fonction d'affichage:**"
      ],
      "metadata": {
        "id": "1WXcYGXURygW"
      }
    },
    {
      "cell_type": "code",
      "source": [
        "def affiche_classe(x,clas,K,w):\n",
        " t=[np.min(x[0,:]),np.max(x[0,:])]\n",
        " z=[(-w[0]-w[1]*np.min(x[0,:]))/w[2],(-w[0]-w[1]*np.max(x[0,:]))/w[2]]\n",
        " plt.plot(t,z)\n",
        " ind=(clas==-1)\n",
        " plt.plot(x[0,ind],x[1,ind],\"o\")\n",
        " ind=(clas==1)\n",
        " plt.plot(x[0,ind],x[1,ind],\"o\")\n",
        " plt.show()\n",
        "\n"
      ],
      "metadata": {
        "id": "eWQl4kH8Pv1Q"
      },
      "execution_count": null,
      "outputs": []
    },
    {
      "cell_type": "markdown",
      "source": [
        "### **Résultat:**"
      ],
      "metadata": {
        "id": "-uaaZMc8SbO-"
      }
    },
    {
      "cell_type": "code",
      "source": [
        "w,mdiff=apprentissage(data,oracle,1)\n",
        "plt.plot(mdiff)\n",
        "plt.show()\n",
        "affiche_classe(data,oracle,2,w)"
      ],
      "metadata": {
        "colab": {
          "base_uri": "https://localhost:8080/",
          "height": 1000
        },
        "id": "7vPCWPRMSa5_",
        "outputId": "2b9ca41f-d2b8-430e-ebba-33f0598febf8"
      },
      "execution_count": null,
      "outputs": [
        {
          "output_type": "stream",
          "name": "stdout",
          "text": [
            "Itération  0\n",
            "W1= -0.573813841086814\n",
            "W2= -0.8255551703602853\n",
            "b= 1.0223473462966555\n",
            "Itération  1\n",
            "W1= -0.5665617348657448\n",
            "W2= -0.8475290608119134\n",
            "b= 1.2364378168796737\n",
            "Itération  2\n",
            "W1= -0.5547166005662516\n",
            "W2= -0.8948946367225864\n",
            "b= 1.3955785938644234\n",
            "Itération  3\n",
            "W1= -0.5450189325245882\n",
            "W2= -0.9390574096874588\n",
            "b= 1.5272888648614358\n",
            "Itération  4\n",
            "W1= -0.5365603544444169\n",
            "W2= -0.979516171011999\n",
            "b= 1.6413950181919308\n",
            "Itération  5\n",
            "W1= -0.5287927041773942\n",
            "W2= -1.0168035695538344\n",
            "b= 1.7431413505560864\n",
            "Itération  6\n",
            "W1= -0.521429511780692\n",
            "W2= -1.05146727633758\n",
            "b= 1.8356815704586054\n",
            "Itération  7\n",
            "W1= -0.5143166078069579\n",
            "W2= -1.083959259326479\n",
            "b= 1.9210632996034214\n",
            "Itération  8\n",
            "W1= -0.5073679394198297\n",
            "W2= -1.114634742512024\n",
            "b= 2.0006932961726003\n",
            "Itération  9\n",
            "W1= -0.5005339649666566\n",
            "W2= -1.1437707459594864\n",
            "b= 2.075580925492199\n",
            "Itération  10\n",
            "W1= -0.4937855337614777\n",
            "W2= -1.1715845893490235\n",
            "b= 2.146475797626803\n",
            "Itération  11\n",
            "W1= -0.4871053274673968\n",
            "W2= -1.1982486077025873\n",
            "b= 2.213950444393789\n",
            "Itération  12\n",
            "W1= -0.48048313515183344\n",
            "W2= -1.2239011495863952\n",
            "b= 2.278452468159795\n",
            "Itération  13\n",
            "W1= -0.47391314702632154\n",
            "W2= -1.2486546612082372\n",
            "b= 2.340338780869158\n",
            "Itération  14\n",
            "W1= -0.46739234968812376\n",
            "W2= -1.2726016297780338\n",
            "b= 2.3998988503689866\n",
            "Itération  15\n",
            "W1= -0.4609195425033087\n",
            "W2= -1.2958189843829495\n",
            "b= 2.4573709385563984\n",
            "Itération  16\n",
            "W1= -0.4544947151358348\n",
            "W2= -1.318371387480474\n",
            "b= 2.5129537247640523\n",
            "Itération  17\n",
            "W1= -0.44811864123961\n",
            "W2= -1.3403137239217402\n",
            "b= 2.5668148044821377\n",
            "Itération  18\n",
            "W1= -0.4417926052500963\n",
            "W2= -1.3616930042146043\n",
            "b= 2.6190970203204142\n",
            "Itération  19\n",
            "W1= -0.43551821349281916\n",
            "W2= -1.3825498357182497\n",
            "b= 2.66992325657476\n",
            "Itération  20\n",
            "W1= -0.42929726028591597\n",
            "W2= -1.4029195716583431\n",
            "b= 2.719400124035331\n",
            "Itération  21\n",
            "W1= -0.42313163101007617\n",
            "W2= -1.4228332173085385\n",
            "b= 2.7676208295116806\n",
            "Itération  22\n",
            "W1= -0.41702323080968734\n",
            "W2= -1.4423181512329735\n",
            "b= 2.8146674372237985\n",
            "Itération  23\n",
            "W1= -0.4109739316247282\n",
            "W2= -1.4613987042805738\n",
            "b= 2.860612670290455\n",
            "Itération  24\n",
            "W1= -0.4049855327293083\n",
            "W2= -1.4800966281378158\n",
            "b= 2.9055213600408476\n",
            "Itération  25\n",
            "W1= -0.39905973149778307\n",
            "W2= -1.4984314773747212\n",
            "b= 2.949451622549654\n",
            "Itération  26\n",
            "W1= -0.3931981020999164\n",
            "W2= -1.5164209231672088\n",
            "b= 2.992455821676704\n",
            "Itération  27\n",
            "W1= -0.3874020804605876\n",
            "W2= -1.534081012634797\n",
            "b= 3.0345813633979204\n",
            "Itération  28\n",
            "W1= -0.38167295423827474\n",
            "W2= -1.5514263845707015\n",
            "b= 3.075871355634511\n",
            "Itération  29\n",
            "W1= -0.3760118568601086\n",
            "W2= -1.5684704499642501\n",
            "b= 3.1163651599712052\n",
            "Itération  30\n",
            "W1= -0.370419764849004\n",
            "W2= -1.5852255439125846\n",
            "b= 3.156098855814974\n",
            "Itération  31\n",
            "W1= -0.36489749782090064\n",
            "W2= -1.6017030541401152\n",
            "b= 3.1951056331377594\n",
            "Itération  32\n",
            "W1= -0.35944572063664715\n",
            "W2= -1.6179135302815617\n",
            "b= 3.2334161265868575\n",
            "Itération  33\n",
            "W1= -0.3540649472756021\n",
            "W2= -1.6338667772595887\n",
            "b= 3.27105870116256\n",
            "Itération  34\n",
            "W1= -0.34875554606421977\n",
            "W2= -1.6495719354428342\n",
            "b= 3.3080596976582552\n",
            "Itération  35\n",
            "W1= -0.34351774594754686\n",
            "W2= -1.665037549762493\n",
            "b= 3.3444436444911236\n",
            "Itération  36\n",
            "W1= -0.33835164353779007\n",
            "W2= -1.680271629563357\n",
            "b= 3.3802334413173405\n",
            "Itération  37\n",
            "W1= -0.33325721071388803\n",
            "W2= -1.6952817006447305\n",
            "b= 3.4154505188466993\n",
            "Itération  38\n",
            "W1= -0.3282343025806295\n",
            "W2= -1.7100748506898074\n",
            "b= 3.450114978489978\n",
            "Itération  39\n",
            "W1= -0.3232826656262078\n",
            "W2= -1.7246577690751876\n",
            "b= 3.4842457148444845\n",
            "Itération  40\n",
            "W1= -0.31840194594376525\n",
            "W2= -1.7390367818845633\n",
            "b= 3.517860523515718\n",
            "Itération  41\n",
            "W1= -0.3135916974059212\n",
            "W2= -1.753217882814319\n",
            "b= 3.550976196361104\n",
            "Itération  42\n",
            "W1= -0.3088513897018289\n",
            "W2= -1.7672067605472594\n",
            "b= 3.583608605904816\n",
            "Itération  43\n",
            "W1= -0.30418041616430386\n",
            "W2= -1.7810088230791392\n",
            "b= 3.6157727803964583\n",
            "Itération  44\n",
            "W1= -0.29957810133017027\n",
            "W2= -1.7946292194072093\n",
            "b= 3.6474829707586034\n",
            "Itération  45\n",
            "W1= -0.29504370819050185\n",
            "W2= -1.8080728589274786\n",
            "b= 3.6787527104793094\n",
            "Itération  46\n",
            "W1= -0.2905764450990351\n",
            "W2= -1.8213444288354592\n",
            "b= 3.709594869348962\n",
            "Itération  47\n",
            "W1= -0.286175472316913\n",
            "W2= -1.8344484097818345\n",
            "b= 3.7400217018096003\n",
            "Itération  48\n",
            "W1= -0.2818399081802736\n",
            "W2= -1.8473890899982357\n",
            "b= 3.7700448905752126\n",
            "Itération  49\n",
            "W1= -0.2775688348841854\n",
            "W2= -1.8601705780778117\n",
            "b= 3.799675586088982\n",
            "Itération  50\n",
            "W1= -0.2733613038821989\n",
            "W2= -1.8727968145696499\n",
            "b= 3.8289244423056155\n",
            "Itération  51\n",
            "W1= -0.26921634090551405\n",
            "W2= -1.8852715825243391\n",
            "b= 3.857801649220804\n",
            "Itération  52\n",
            "W1= -0.2651329506095296\n",
            "W2= -1.8975985171096146\n",
            "b= 3.8863169625138756\n",
            "Itération  53\n",
            "W1= -0.26111012085855134\n",
            "W2= -1.9097811143993286\n",
            "b= 3.9144797306218626\n",
            "Itération  54\n",
            "W1= -0.25714682666170346\n",
            "W2= -1.9218227394256406\n",
            "b= 3.942298919522501\n",
            "Itération  55\n",
            "W1= -0.25324203377480475\n",
            "W2= -1.9337266335729097\n",
            "b= 3.969783135468616\n",
            "Itération  56\n",
            "W1= -0.24939470198416558\n",
            "W2= -1.9454959213819656\n",
            "b= 3.9969406458864247\n",
            "Itération  57\n",
            "W1= -0.24560378808903818\n",
            "W2= -1.9571336168250002\n",
            "b= 4.023779398624359\n",
            "Itération  58\n",
            "W1= -0.24186824859987907\n",
            "W2= -1.9686426291040573\n",
            "b= 4.050307039716746\n",
            "Itération  59\n",
            "W1= -0.23818704216972794\n",
            "W2= -1.98002576801985\n",
            "b= 4.076530929807304\n",
            "Itération  60\n",
            "W1= -0.23455913177590215\n",
            "W2= -1.9912857489521294\n",
            "b= 4.102458159360682\n",
            "Itération  61\n",
            "W1= -0.23098348666892005\n",
            "W2= -2.002425197488175\n",
            "b= 4.128095562775752\n",
            "Itération  62\n",
            "W1= -0.2274590841051456\n",
            "W2= -2.0134466537318247\n",
            "b= 4.1534497315015555\n",
            "Itération  63\n",
            "W1= -0.22398491087908065\n",
            "W2= -2.0243525763218817\n",
            "b= 4.178527026245843\n",
            "Itération  64\n",
            "W1= -0.2205599646706148\n",
            "W2= -2.035145346185603\n",
            "b= 4.203333588356324\n",
            "Itération  65\n",
            "W1= -0.21718325522184356\n",
            "W2= -2.045827270050211\n",
            "b= 4.227875350446331\n",
            "Itération  66\n",
            "W1= -0.21385380535732804\n",
            "W2= -2.0564005837330037\n",
            "b= 4.252158046329107\n",
            "Itération  67\n",
            "W1= -0.21057065186092036\n",
            "W2= -2.0668674552284307\n",
            "b= 4.276187220318259\n",
            "Itération  68\n",
            "W1= -0.20733284622151907\n",
            "W2= -2.07722998760874\n",
            "b= 4.2999682359461895\n",
            "Itération  69\n",
            "W1= -0.20413945525933658\n",
            "W2= -2.087490221753038\n",
            "b= 4.32350628414726\n",
            "Itération  70\n",
            "W1= -0.2009895616435309\n",
            "W2= -2.0976501389182376\n",
            "b= 4.346806390947665\n",
            "Itération  71\n",
            "W1= -0.19788226431129988\n",
            "W2= -2.107711663164007\n",
            "b= 4.3698734247001845\n",
            "Itération  72\n",
            "W1= -0.1948166787978476\n",
            "W2= -2.117676663642701\n",
            "b= 4.392712102898283\n",
            "Itération  73\n",
            "W1= -0.19179193748592524\n",
            "W2= -2.127546956764251\n",
            "b= 4.4153269986008485\n",
            "Itération  74\n",
            "W1= -0.18880718978300934\n",
            "W2= -2.137324308245032\n",
            "b= 4.437722546496056\n",
            "Itération  75\n",
            "W1= -0.18586160223355694\n",
            "W2= -2.1470104350489847\n",
            "b= 4.459903048630173\n",
            "Itération  76\n",
            "W1= -0.1829543585731901\n",
            "W2= -2.1566070072284185\n",
            "b= 4.481872679825053\n",
            "Itération  77\n",
            "W1= -0.18008465973110138\n",
            "W2= -2.1661156496714136\n",
            "b= 4.503635492805739\n",
            "Itération  78\n",
            "W1= -0.1772517237864566\n",
            "W2= -2.175537943762048\n",
            "b= 4.525195423058129\n",
            "Itération  79\n",
            "W1= -0.17445478588408092\n",
            "W2= -2.1848754289591814\n",
            "b= 4.54655629343453\n",
            "Itération  80\n",
            "W1= -0.1716930981142654\n",
            "W2= -2.194129604299043\n",
            "b= 4.567721818523915\n",
            "Itération  81\n",
            "W1= -0.16896592936109067\n",
            "W2= -2.2033019298264946\n",
            "b= 4.588695608802012\n",
            "Itération  82\n",
            "W1= -0.1662725651232888\n",
            "W2= -2.2123938279593527\n",
            "b= 4.609481174575365\n",
            "Itération  83\n",
            "W1= -0.16361230731129087\n",
            "W2= -2.2214066847899314\n",
            "b= 4.630081929732148\n",
            "Itération  84\n",
            "W1= -0.16098447402376576\n",
            "W2= -2.230341851327493\n",
            "b= 4.65050119531182\n",
            "Itération  85\n",
            "W1= -0.1583883993066529\n",
            "W2= -2.2392006446851855\n",
            "b= 4.670742202904573\n",
            "Itération  86\n",
            "W1= -0.15582343289739817\n",
            "W2= -2.24798434921464\n",
            "b= 4.690808097890802\n",
            "Itération  87\n",
            "W1= -0.15328893995683832\n",
            "W2= -2.25669421759122\n",
            "b= 4.710701942530028\n",
            "Itération  88\n",
            "W1= -0.15078430079093955\n",
            "W2= -2.265331471852732\n",
            "b= 4.730426718908041\n",
            "Itération  89\n",
            "W1= -0.1483089105643728\n",
            "W2= -2.2738973043941177\n",
            "b= 4.749985331750455\n",
            "Itération  90\n",
            "W1= -0.14586217900769724\n",
            "W2= -2.2823928789205765\n",
            "b= 4.769380611110168\n",
            "Itération  91\n",
            "W1= -0.14344353011974922\n",
            "W2= -2.2908193313613157\n",
            "b= 4.788615314935827\n",
            "Itération  92\n",
            "W1= -0.14105240186665222\n",
            "W2= -2.2991777707460046\n",
            "b= 4.807692131527807\n",
            "Itération  93\n",
            "W1= -0.13868824587871648\n",
            "W2= -2.30746928004592\n",
            "b= 4.826613681887874\n",
            "Itération  94\n",
            "W1= -0.13635052714635018\n",
            "W2= -2.315694916981512\n",
            "b= 4.8453825219682365\n",
            "Itération  95\n",
            "W1= -0.13403872371597514\n",
            "W2= -2.3238557147981695\n",
            "b= 4.864001144825277\n",
            "Itération  96\n",
            "W1= -0.13175232638683088\n",
            "W2= -2.33195268301171\n",
            "b= 4.882471982682978\n",
            "Itération  97\n",
            "W1= -0.12949083840943332\n",
            "W2= -2.3399868081251345\n",
            "b= 4.900797408910773\n",
            "Itération  98\n",
            "W1= -0.12725377518636652\n",
            "W2= -2.3479590543180047\n",
            "b= 4.9189797399201485\n",
            "Itération  99\n",
            "W1= -0.12504066397599617\n",
            "W2= -2.3558703641097356\n",
            "b= 4.93702123698406\n",
            "[492.4269762219034, 995.5770621525347, 1500.244358490099, 2005.8029056086434, 2511.9498071605844, 3018.514354489, 3525.3910380050966, 4032.5102626771954, 4539.823844702601, 5047.297150727334, 5554.904532643668, 6062.626527572712, 6570.448062853242, 7078.357262464067, 7586.34462860084, 8094.402465609263, 8602.524465260176, 9110.705402268248, 9618.940906877382, 10127.227292416808, 10635.561422775076, 11143.940609329617, 11652.362529926737, 12160.825164584136, 12669.326744025542, 13177.865708167623, 13686.440672400691, 14195.050400027127, 14703.693779604208, 15212.369806221608, 15721.077565957226, 16229.816222915826, 16738.585008378475, 17247.38321168602, 17756.21017255358, 18265.06527457103, 18773.947939690923, 19282.857623540538, 19791.793811424683, 20300.756014909435, 20809.743768895176, 21318.756629103184, 21827.794169912966, 22336.855982496912, 22845.941673208126, 23351.050862184165, 23856.183182135104, 24361.338277289058, 24866.515802473084, 25367.715422309702, 25868.93681051326, 26366.17964927187, 26863.44362870317, 27356.728446373705, 27850.033806873493, 28343.359421437934, 28836.705007610974, 29330.07028894393, 29823.454994725238, 30316.85885973708, 30810.281624035408, 31303.72303275024, 31797.182835903805, 32290.6607882442, 32784.15664909234, 33277.67018220117, 33771.20115562506, 34264.74934159813, 34758.31451642122, 35247.89646035516, 35737.49495752122, 36227.10979580653, 36716.74076677453, 37206.387665580005, 37692.05029088806, 38177.72844479654, 38663.42193276163, 39149.13056352656, 39634.854149052684, 40120.5925044532, 40606.34544792864, 41092.11280070496, 41577.89438697302, 42063.69003382994, 42549.49957122206, 43035.32283188959, 43517.15965131226, 43999.009867656605, 44480.87332172445, 44962.749856902614, 45440.63931911354, 45914.54155676741, 46388.45642071486, 46862.38376420112, 47332.323442820736, 47802.27531447359, 48272.23923932148, 48742.21507974586, 49208.202700306334, 49674.20196769994]\n"
          ]
        },
        {
          "output_type": "display_data",
          "data": {
            "text/plain": [
              "<Figure size 432x288 with 1 Axes>"
            ],
            "image/png": "[encoded data removed]"
          },
          "metadata": {
            "needs_background": "light"
          }
        },
        {
          "output_type": "display_data",
          "data": {
            "text/plain": [
              "<Figure size 432x288 with 1 Axes>"
            ],
            "image/png": "[encoded data removed]"
          },
          "metadata": {
            "needs_background": "light"
          }
        }
      ]
    }
  ]
}