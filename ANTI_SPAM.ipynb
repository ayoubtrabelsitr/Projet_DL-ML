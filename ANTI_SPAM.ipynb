{
  "nbformat": 4,
  "nbformat_minor": 0,
  "metadata": {
    "colab": {
      "provenance": [],
      "toc_visible": true
    },
    "kernelspec": {
      "name": "python3",
      "display_name": "Python 3"
    },
    "language_info": {
      "name": "python"
    }
  },
  "cells": [
    {
      "cell_type": "markdown",
      "source": [
        "# **Importation des bibliothèques:**"
      ],
      "metadata": {
        "id": "2b1lhQRy4TXy"
      }
    },
    {
      "cell_type": "code",
      "execution_count": null,
      "metadata": {
        "id": "v0rWdIA84FZb"
      },
      "outputs": [],
      "source": [
        "import tensorflow as tf\n",
        "from tensorflow import keras\n",
        "import csv\n",
        "import matplotlib.pyplot as plt\n",
        "import numpy\n",
        "from google.colab import files\n",
        "import pandas as pd\n",
        "import math"
      ]
    },
    {
      "cell_type": "markdown",
      "source": [
        "# **Importation des fichiers:**"
      ],
      "metadata": {
        "id": "19ho2zAt5JWk"
      }
    },
    {
      "cell_type": "code",
      "source": [
        "importer = files.upload()\n",
        "Test = 'Spam detection - For prediction.csv'\n",
        "Apprentissage = 'Spam detection - For model creation.csv'\n",
        "\n",
        "\n"
      ],
      "metadata": {
        "colab": {
          "base_uri": "https://localhost:8080/",
          "height": 107
        },
        "id": "DDEcHurl5M9a",
        "outputId": "9927c497-7b59-4b92-a34c-dfa80bb008af"
      },
      "execution_count": null,
      "outputs": [
        {
          "output_type": "display_data",
          "data": {
            "text/plain": [
              "<IPython.core.display.HTML object>"
            ],
            "text/html": [
              "\n",
              "     <input type=\"file\" id=\"files-7e13409e-4272-4051-9b3e-0f28a67e2633\" name=\"files[]\" multiple disabled\n",
              "        style=\"border:none\" />\n",
              "     <output id=\"result-7e13409e-4272-4051-9b3e-0f28a67e2633\">\n",
              "      Upload widget is only available when the cell has been executed in the\n",
              "      current browser session. Please rerun this cell to enable.\n",
              "      </output>\n",
              "      <script>// Copyright 2017 Google LLC\n",
              "//\n",
              "// Licensed under the Apache License, Version 2.0 (the \"License\");\n",
              "// you may not use this file except in compliance with the License.\n",
              "// You may obtain a copy of the License at\n",
              "//\n",
              "//      http://www.apache.org/licenses/LICENSE-2.0\n",
              "//\n",
              "// Unless required by applicable law or agreed to in writing, software\n",
              "// distributed under the License is distributed on an \"AS IS\" BASIS,\n",
              "// WITHOUT WARRANTIES OR CONDITIONS OF ANY KIND, either express or implied.\n",
              "// See the License for the specific language governing permissions and\n",
              "// limitations under the License.\n",
              "\n",
              "/**\n",
              " * @fileoverview Helpers for google.colab Python module.\n",
              " */\n",
              "(function(scope) {\n",
              "function span(text, styleAttributes = {}) {\n",
              "  const element = document.createElement('span');\n",
              "  element.textContent = text;\n",
              "  for (const key of Object.keys(styleAttributes)) {\n",
              "    element.style[key] = styleAttributes[key];\n",
              "  }\n",
              "  return element;\n",
              "}\n",
              "\n",
              "// Max number of bytes which will be uploaded at a time.\n",
              "const MAX_PAYLOAD_SIZE = 100 * 1024;\n",
              "\n",
              "function _uploadFiles(inputId, outputId) {\n",
              "  const steps = uploadFilesStep(inputId, outputId);\n",
              "  const outputElement = document.getElementById(outputId);\n",
              "  // Cache steps on the outputElement to make it available for the next call\n",
              "  // to uploadFilesContinue from Python.\n",
              "  outputElement.steps = steps;\n",
              "\n",
              "  return _uploadFilesContinue(outputId);\n",
              "}\n",
              "\n",
              "// This is roughly an async generator (not supported in the browser yet),\n",
              "// where there are multiple asynchronous steps and the Python side is going\n",
              "// to poll for completion of each step.\n",
              "// This uses a Promise to block the python side on completion of each step,\n",
              "// then passes the result of the previous step as the input to the next step.\n",
              "function _uploadFilesContinue(outputId) {\n",
              "  const outputElement = document.getElementById(outputId);\n",
              "  const steps = outputElement.steps;\n",
              "\n",
              "  const next = steps.next(outputElement.lastPromiseValue);\n",
              "  return Promise.resolve(next.value.promise).then((value) => {\n",
              "    // Cache the last promise value to make it available to the next\n",
              "    // step of the generator.\n",
              "    outputElement.lastPromiseValue = value;\n",
              "    return next.value.response;\n",
              "  });\n",
              "}\n",
              "\n",
              "/**\n",
              " * Generator function which is called between each async step of the upload\n",
              " * process.\n",
              " * @param {string} inputId Element ID of the input file picker element.\n",
              " * @param {string} outputId Element ID of the output display.\n",
              " * @return {!Iterable<!Object>} Iterable of next steps.\n",
              " */\n",
              "function* uploadFilesStep(inputId, outputId) {\n",
              "  const inputElement = document.getElementById(inputId);\n",
              "  inputElement.disabled = false;\n",
              "\n",
              "  const outputElement = document.getElementById(outputId);\n",
              "  outputElement.innerHTML = '';\n",
              "\n",
              "  const pickedPromise = new Promise((resolve) => {\n",
              "    inputElement.addEventListener('change', (e) => {\n",
              "      resolve(e.target.files);\n",
              "    });\n",
              "  });\n",
              "\n",
              "  const cancel = document.createElement('button');\n",
              "  inputElement.parentElement.appendChild(cancel);\n",
              "  cancel.textContent = 'Cancel upload';\n",
              "  const cancelPromise = new Promise((resolve) => {\n",
              "    cancel.onclick = () => {\n",
              "      resolve(null);\n",
              "    };\n",
              "  });\n",
              "\n",
              "  // Wait for the user to pick the files.\n",
              "  const files = yield {\n",
              "    promise: Promise.race([pickedPromise, cancelPromise]),\n",
              "    response: {\n",
              "      action: 'starting',\n",
              "    }\n",
              "  };\n",
              "\n",
              "  cancel.remove();\n",
              "\n",
              "  // Disable the input element since further picks are not allowed.\n",
              "  inputElement.disabled = true;\n",
              "\n",
              "  if (!files) {\n",
              "    return {\n",
              "      response: {\n",
              "        action: 'complete',\n",
              "      }\n",
              "    };\n",
              "  }\n",
              "\n",
              "  for (const file of files) {\n",
              "    const li = document.createElement('li');\n",
              "    li.append(span(file.name, {fontWeight: 'bold'}));\n",
              "    li.append(span(\n",
              "        `(${file.type || 'n/a'}) - ${file.size} bytes, ` +\n",
              "        `last modified: ${\n",
              "            file.lastModifiedDate ? file.lastModifiedDate.toLocaleDateString() :\n",
              "                                    'n/a'} - `));\n",
              "    const percent = span('0% done');\n",
              "    li.appendChild(percent);\n",
              "\n",
              "    outputElement.appendChild(li);\n",
              "\n",
              "    const fileDataPromise = new Promise((resolve) => {\n",
              "      const reader = new FileReader();\n",
              "      reader.onload = (e) => {\n",
              "        resolve(e.target.result);\n",
              "      };\n",
              "      reader.readAsArrayBuffer(file);\n",
              "    });\n",
              "    // Wait for the data to be ready.\n",
              "    let fileData = yield {\n",
              "      promise: fileDataPromise,\n",
              "      response: {\n",
              "        action: 'continue',\n",
              "      }\n",
              "    };\n",
              "\n",
              "    // Use a chunked sending to avoid message size limits. See b/62115660.\n",
              "    let position = 0;\n",
              "    do {\n",
              "      const length = Math.min(fileData.byteLength - position, MAX_PAYLOAD_SIZE);\n",
              "      const chunk = new Uint8Array(fileData, position, length);\n",
              "      position += length;\n",
              "\n",
              "      const base64 = btoa(String.fromCharCode.apply(null, chunk));\n",
              "      yield {\n",
              "        response: {\n",
              "          action: 'append',\n",
              "          file: file.name,\n",
              "          data: base64,\n",
              "        },\n",
              "      };\n",
              "\n",
              "      let percentDone = fileData.byteLength === 0 ?\n",
              "          100 :\n",
              "          Math.round((position / fileData.byteLength) * 100);\n",
              "      percent.textContent = `${percentDone}% done`;\n",
              "\n",
              "    } while (position < fileData.byteLength);\n",
              "  }\n",
              "\n",
              "  // All done.\n",
              "  yield {\n",
              "    response: {\n",
              "      action: 'complete',\n",
              "    }\n",
              "  };\n",
              "}\n",
              "\n",
              "scope.google = scope.google || {};\n",
              "scope.google.colab = scope.google.colab || {};\n",
              "scope.google.colab._files = {\n",
              "  _uploadFiles,\n",
              "  _uploadFilesContinue,\n",
              "};\n",
              "})(self);\n",
              "</script> "
            ]
          },
          "metadata": {}
        },
        {
          "output_type": "stream",
          "name": "stdout",
          "text": [
            "Saving Spam detection - For model creation.csv to Spam detection - For model creation.csv\n",
            "Saving Spam detection - For prediction.csv to Spam detection - For prediction.csv\n"
          ]
        }
      ]
    },
    {
      "cell_type": "markdown",
      "source": [
        "# **Répartition des données de l'entrainement en train_x et train_y:**"
      ],
      "metadata": {
        "id": "BtE8nVjI6cVa"
      }
    },
    {
      "cell_type": "code",
      "source": [
        "training_data = open(Apprentissage, 'rt')\n",
        "train_data= csv.reader(training_data, delimiter=';', quoting=csv.QUOTE_NONE)\n",
        "X= list(train_data)\n",
        "donne_1 = numpy.array(X[1:])\n",
        "train_x = donne_1[:,1:]\n",
        "train_y = donne_1[:,0]\n",
        "train_x = train_x.astype('float')\n",
        "train_y = [0 if i=='No' else 1  for i in train_y]\n",
        "train_y = numpy.array(train_y)\n",
        "\n"
      ],
      "metadata": {
        "id": "HR_kXH9r6dAy"
      },
      "execution_count": null,
      "outputs": []
    },
    {
      "cell_type": "markdown",
      "source": [
        "# **Répartition des données du test en test_x et test_y:**"
      ],
      "metadata": {
        "id": "avOttTSw9FoL"
      }
    },
    {
      "cell_type": "code",
      "source": [
        "test_data = open(Test, 'rt')\n",
        "RD = csv.reader(test_data, delimiter=',', quoting=csv.QUOTE_NONE)\n",
        "Y= list(RD)\n",
        "donne_2 = numpy.array(Y[1:])\n",
        "test_y = donne_2[:,57]\n",
        "test_x = donne_2[:,:57]\n",
        "test_x = test_x.astype('float')\n",
        "test_y = test_y.astype('float')\n",
        "print(test_y)\n"
      ],
      "metadata": {
        "id": "cMeeo4w09GLT",
        "colab": {
          "base_uri": "https://localhost:8080/"
        },
        "outputId": "7303a8a8-e3d6-438b-f23d-843834759b36"
      },
      "execution_count": null,
      "outputs": [
        {
          "output_type": "stream",
          "name": "stdout",
          "text": [
            "[0. 0. 1. ... 1. 1. 1.]\n"
          ]
        }
      ]
    },
    {
      "cell_type": "markdown",
      "source": [
        "#**Modèle RN sans couches cachées**\n"
      ],
      "metadata": {
        "id": "8jt0m92oDwOP"
      }
    },
    {
      "cell_type": "markdown",
      "source": [
        "### **Création du modèle:**"
      ],
      "metadata": {
        "id": "l_bsRBn8EuOO"
      }
    },
    {
      "cell_type": "code",
      "source": [
        "M1= tf.keras.models.Sequential()\n",
        "M1.add(tf.keras.layers.Dense(units=1, activation='sigmoid', input_dim=57, ))\n",
        "M1.compile(loss='binary_crossentropy', optimizer='adam', metrics=['accuracy'])\n",
        "history = M1.fit(train_x, train_y, epochs=150 )\n"
      ],
      "metadata": {
        "colab": {
          "base_uri": "https://localhost:8080/"
        },
        "id": "z1KYXVaDDxqM",
        "outputId": "64a64f37-ede7-4f52-e41e-61e614d37b86"
      },
      "execution_count": null,
      "outputs": [
        {
          "output_type": "stream",
          "name": "stdout",
          "text": [
            "Epoch 1/150\n",
            "93/93 [==============================] - 1s 4ms/step - loss: 2.1739 - accuracy: 0.5542\n",
            "Epoch 2/150\n",
            "93/93 [==============================] - 0s 3ms/step - loss: 1.4057 - accuracy: 0.6592\n",
            "Epoch 3/150\n",
            "93/93 [==============================] - 0s 5ms/step - loss: 0.9881 - accuracy: 0.7503\n",
            "Epoch 4/150\n",
            "93/93 [==============================] - 0s 4ms/step - loss: 0.8276 - accuracy: 0.7840\n",
            "Epoch 5/150\n",
            "93/93 [==============================] - 1s 6ms/step - loss: 0.7318 - accuracy: 0.8102\n",
            "Epoch 6/150\n",
            "93/93 [==============================] - 0s 4ms/step - loss: 0.6633 - accuracy: 0.8267\n",
            "Epoch 7/150\n",
            "93/93 [==============================] - 0s 4ms/step - loss: 0.6394 - accuracy: 0.8324\n",
            "Epoch 8/150\n",
            "93/93 [==============================] - 0s 3ms/step - loss: 0.5575 - accuracy: 0.8526\n",
            "Epoch 9/150\n",
            "93/93 [==============================] - 0s 4ms/step - loss: 0.5015 - accuracy: 0.8577\n",
            "Epoch 10/150\n",
            "93/93 [==============================] - 0s 4ms/step - loss: 0.4871 - accuracy: 0.8617\n",
            "Epoch 11/150\n",
            "93/93 [==============================] - 1s 6ms/step - loss: 0.4545 - accuracy: 0.8708\n",
            "Epoch 12/150\n",
            "93/93 [==============================] - 0s 3ms/step - loss: 0.4234 - accuracy: 0.8782\n",
            "Epoch 13/150\n",
            "93/93 [==============================] - 0s 3ms/step - loss: 0.4237 - accuracy: 0.8735\n",
            "Epoch 14/150\n",
            "93/93 [==============================] - 0s 4ms/step - loss: 0.3635 - accuracy: 0.8890\n",
            "Epoch 15/150\n",
            "93/93 [==============================] - 0s 3ms/step - loss: 0.3544 - accuracy: 0.8903\n",
            "Epoch 16/150\n",
            "93/93 [==============================] - 0s 2ms/step - loss: 0.3396 - accuracy: 0.9007\n",
            "Epoch 17/150\n",
            "93/93 [==============================] - 0s 2ms/step - loss: 0.3278 - accuracy: 0.8997\n",
            "Epoch 18/150\n",
            "93/93 [==============================] - 0s 2ms/step - loss: 0.3046 - accuracy: 0.9118\n",
            "Epoch 19/150\n",
            "93/93 [==============================] - 0s 2ms/step - loss: 0.2955 - accuracy: 0.9135\n",
            "Epoch 20/150\n",
            "93/93 [==============================] - 0s 2ms/step - loss: 0.2916 - accuracy: 0.9139\n",
            "Epoch 21/150\n",
            "93/93 [==============================] - 0s 2ms/step - loss: 0.2857 - accuracy: 0.9169\n",
            "Epoch 22/150\n",
            "93/93 [==============================] - 0s 2ms/step - loss: 0.2862 - accuracy: 0.9145\n",
            "Epoch 23/150\n",
            "93/93 [==============================] - 0s 3ms/step - loss: 0.2829 - accuracy: 0.9149\n",
            "Epoch 24/150\n",
            "93/93 [==============================] - 0s 4ms/step - loss: 0.2692 - accuracy: 0.9209\n",
            "Epoch 25/150\n",
            "93/93 [==============================] - 0s 4ms/step - loss: 0.2740 - accuracy: 0.9169\n",
            "Epoch 26/150\n",
            "93/93 [==============================] - 0s 2ms/step - loss: 0.2634 - accuracy: 0.9253\n",
            "Epoch 27/150\n",
            "93/93 [==============================] - 0s 2ms/step - loss: 0.2611 - accuracy: 0.9223\n",
            "Epoch 28/150\n",
            "93/93 [==============================] - 0s 2ms/step - loss: 0.2601 - accuracy: 0.9236\n",
            "Epoch 29/150\n",
            "93/93 [==============================] - 0s 2ms/step - loss: 0.2573 - accuracy: 0.9246\n",
            "Epoch 30/150\n",
            "93/93 [==============================] - 0s 2ms/step - loss: 0.2585 - accuracy: 0.9216\n",
            "Epoch 31/150\n",
            "93/93 [==============================] - 0s 2ms/step - loss: 0.2573 - accuracy: 0.9223\n",
            "Epoch 32/150\n",
            "93/93 [==============================] - 0s 2ms/step - loss: 0.2516 - accuracy: 0.9263\n",
            "Epoch 33/150\n",
            "93/93 [==============================] - 0s 2ms/step - loss: 0.2526 - accuracy: 0.9280\n",
            "Epoch 34/150\n",
            "93/93 [==============================] - 0s 2ms/step - loss: 0.2613 - accuracy: 0.9203\n",
            "Epoch 35/150\n",
            "93/93 [==============================] - 0s 2ms/step - loss: 0.2541 - accuracy: 0.9283\n",
            "Epoch 36/150\n",
            "93/93 [==============================] - 0s 2ms/step - loss: 0.2615 - accuracy: 0.9233\n",
            "Epoch 37/150\n",
            "93/93 [==============================] - 0s 2ms/step - loss: 0.2460 - accuracy: 0.9280\n",
            "Epoch 38/150\n",
            "93/93 [==============================] - 0s 2ms/step - loss: 0.2421 - accuracy: 0.9290\n",
            "Epoch 39/150\n",
            "93/93 [==============================] - 0s 2ms/step - loss: 0.2588 - accuracy: 0.9233\n",
            "Epoch 40/150\n",
            "93/93 [==============================] - 0s 2ms/step - loss: 0.2492 - accuracy: 0.9246\n",
            "Epoch 41/150\n",
            "93/93 [==============================] - 0s 2ms/step - loss: 0.2593 - accuracy: 0.9203\n",
            "Epoch 42/150\n",
            "93/93 [==============================] - 0s 2ms/step - loss: 0.2375 - accuracy: 0.9320\n",
            "Epoch 43/150\n",
            "93/93 [==============================] - 0s 2ms/step - loss: 0.2446 - accuracy: 0.9273\n",
            "Epoch 44/150\n",
            "93/93 [==============================] - 0s 2ms/step - loss: 0.2396 - accuracy: 0.9277\n",
            "Epoch 45/150\n",
            "93/93 [==============================] - 0s 2ms/step - loss: 0.2465 - accuracy: 0.9240\n",
            "Epoch 46/150\n",
            "93/93 [==============================] - 0s 2ms/step - loss: 0.2334 - accuracy: 0.9307\n",
            "Epoch 47/150\n",
            "93/93 [==============================] - 0s 2ms/step - loss: 0.2353 - accuracy: 0.9290\n",
            "Epoch 48/150\n",
            "93/93 [==============================] - 0s 2ms/step - loss: 0.2346 - accuracy: 0.9327\n",
            "Epoch 49/150\n",
            "93/93 [==============================] - 0s 2ms/step - loss: 0.2337 - accuracy: 0.9314\n",
            "Epoch 50/150\n",
            "93/93 [==============================] - 0s 2ms/step - loss: 0.2369 - accuracy: 0.9280\n",
            "Epoch 51/150\n",
            "93/93 [==============================] - 0s 2ms/step - loss: 0.2435 - accuracy: 0.9226\n",
            "Epoch 52/150\n",
            "93/93 [==============================] - 0s 2ms/step - loss: 0.2591 - accuracy: 0.9219\n",
            "Epoch 53/150\n",
            "93/93 [==============================] - 0s 2ms/step - loss: 0.2402 - accuracy: 0.9290\n",
            "Epoch 54/150\n",
            "93/93 [==============================] - 0s 2ms/step - loss: 0.2291 - accuracy: 0.9347\n",
            "Epoch 55/150\n",
            "93/93 [==============================] - 0s 2ms/step - loss: 0.2287 - accuracy: 0.9341\n",
            "Epoch 56/150\n",
            "93/93 [==============================] - 0s 2ms/step - loss: 0.2856 - accuracy: 0.9129\n",
            "Epoch 57/150\n",
            "93/93 [==============================] - 0s 2ms/step - loss: 0.2442 - accuracy: 0.9226\n",
            "Epoch 58/150\n",
            "93/93 [==============================] - 0s 2ms/step - loss: 0.2283 - accuracy: 0.9324\n",
            "Epoch 59/150\n",
            "93/93 [==============================] - 0s 2ms/step - loss: 0.2247 - accuracy: 0.9330\n",
            "Epoch 60/150\n",
            "93/93 [==============================] - 0s 2ms/step - loss: 0.2274 - accuracy: 0.9334\n",
            "Epoch 61/150\n",
            "93/93 [==============================] - 0s 2ms/step - loss: 0.2247 - accuracy: 0.9341\n",
            "Epoch 62/150\n",
            "93/93 [==============================] - 0s 2ms/step - loss: 0.2479 - accuracy: 0.9266\n",
            "Epoch 63/150\n",
            "93/93 [==============================] - 0s 2ms/step - loss: 0.2247 - accuracy: 0.9320\n",
            "Epoch 64/150\n",
            "93/93 [==============================] - 0s 2ms/step - loss: 0.2230 - accuracy: 0.9334\n",
            "Epoch 65/150\n",
            "93/93 [==============================] - 0s 2ms/step - loss: 0.2258 - accuracy: 0.9310\n",
            "Epoch 66/150\n",
            "93/93 [==============================] - 0s 2ms/step - loss: 0.2296 - accuracy: 0.9300\n",
            "Epoch 67/150\n",
            "93/93 [==============================] - 0s 2ms/step - loss: 0.2230 - accuracy: 0.9320\n",
            "Epoch 68/150\n",
            "93/93 [==============================] - 0s 2ms/step - loss: 0.2263 - accuracy: 0.9334\n",
            "Epoch 69/150\n",
            "93/93 [==============================] - 0s 2ms/step - loss: 0.2219 - accuracy: 0.9317\n",
            "Epoch 70/150\n",
            "93/93 [==============================] - 0s 2ms/step - loss: 0.2263 - accuracy: 0.9307\n",
            "Epoch 71/150\n",
            "93/93 [==============================] - 0s 2ms/step - loss: 0.2268 - accuracy: 0.9310\n",
            "Epoch 72/150\n",
            "93/93 [==============================] - 0s 2ms/step - loss: 0.2355 - accuracy: 0.9303\n",
            "Epoch 73/150\n",
            "93/93 [==============================] - 0s 2ms/step - loss: 0.2229 - accuracy: 0.9344\n",
            "Epoch 74/150\n",
            "93/93 [==============================] - 0s 2ms/step - loss: 0.2212 - accuracy: 0.9310\n",
            "Epoch 75/150\n",
            "93/93 [==============================] - 0s 2ms/step - loss: 0.2266 - accuracy: 0.9317\n",
            "Epoch 76/150\n",
            "93/93 [==============================] - 0s 2ms/step - loss: 0.2215 - accuracy: 0.9320\n",
            "Epoch 77/150\n",
            "93/93 [==============================] - 0s 2ms/step - loss: 0.2216 - accuracy: 0.9347\n",
            "Epoch 78/150\n",
            "93/93 [==============================] - 0s 2ms/step - loss: 0.2288 - accuracy: 0.9320\n",
            "Epoch 79/150\n",
            "93/93 [==============================] - 0s 2ms/step - loss: 0.2242 - accuracy: 0.9351\n",
            "Epoch 80/150\n",
            "93/93 [==============================] - 0s 2ms/step - loss: 0.2200 - accuracy: 0.9354\n",
            "Epoch 81/150\n",
            "93/93 [==============================] - 0s 2ms/step - loss: 0.2196 - accuracy: 0.9354\n",
            "Epoch 82/150\n",
            "93/93 [==============================] - 0s 2ms/step - loss: 0.2217 - accuracy: 0.9337\n",
            "Epoch 83/150\n",
            "93/93 [==============================] - 0s 2ms/step - loss: 0.2199 - accuracy: 0.9337\n",
            "Epoch 84/150\n",
            "93/93 [==============================] - 0s 2ms/step - loss: 0.2264 - accuracy: 0.9347\n",
            "Epoch 85/150\n",
            "93/93 [==============================] - 0s 2ms/step - loss: 0.2175 - accuracy: 0.9364\n",
            "Epoch 86/150\n",
            "93/93 [==============================] - 0s 2ms/step - loss: 0.2680 - accuracy: 0.9270\n",
            "Epoch 87/150\n",
            "93/93 [==============================] - 0s 2ms/step - loss: 0.2285 - accuracy: 0.9337\n",
            "Epoch 88/150\n",
            "93/93 [==============================] - 0s 2ms/step - loss: 0.2282 - accuracy: 0.9317\n",
            "Epoch 89/150\n",
            "93/93 [==============================] - 0s 2ms/step - loss: 0.2152 - accuracy: 0.9361\n",
            "Epoch 90/150\n",
            "93/93 [==============================] - 0s 2ms/step - loss: 0.2332 - accuracy: 0.9327\n",
            "Epoch 91/150\n",
            "93/93 [==============================] - 0s 2ms/step - loss: 0.2195 - accuracy: 0.9351\n",
            "Epoch 92/150\n",
            "93/93 [==============================] - 0s 2ms/step - loss: 0.2159 - accuracy: 0.9361\n",
            "Epoch 93/150\n",
            "93/93 [==============================] - 0s 2ms/step - loss: 0.2190 - accuracy: 0.9351\n",
            "Epoch 94/150\n",
            "93/93 [==============================] - 0s 2ms/step - loss: 0.2214 - accuracy: 0.9344\n",
            "Epoch 95/150\n",
            "93/93 [==============================] - 0s 2ms/step - loss: 0.2171 - accuracy: 0.9367\n",
            "Epoch 96/150\n",
            "93/93 [==============================] - 0s 2ms/step - loss: 0.2303 - accuracy: 0.9303\n",
            "Epoch 97/150\n",
            "93/93 [==============================] - 0s 2ms/step - loss: 0.2195 - accuracy: 0.9354\n",
            "Epoch 98/150\n",
            "93/93 [==============================] - 0s 2ms/step - loss: 0.2194 - accuracy: 0.9347\n",
            "Epoch 99/150\n",
            "93/93 [==============================] - 0s 2ms/step - loss: 0.2148 - accuracy: 0.9378\n",
            "Epoch 100/150\n",
            "93/93 [==============================] - 0s 2ms/step - loss: 0.2337 - accuracy: 0.9320\n",
            "Epoch 101/150\n",
            "93/93 [==============================] - 0s 2ms/step - loss: 0.2132 - accuracy: 0.9381\n",
            "Epoch 102/150\n",
            "93/93 [==============================] - 0s 2ms/step - loss: 0.2160 - accuracy: 0.9361\n",
            "Epoch 103/150\n",
            "93/93 [==============================] - 0s 2ms/step - loss: 0.2163 - accuracy: 0.9378\n",
            "Epoch 104/150\n",
            "93/93 [==============================] - 0s 2ms/step - loss: 0.2192 - accuracy: 0.9361\n",
            "Epoch 105/150\n",
            "93/93 [==============================] - 0s 2ms/step - loss: 0.2173 - accuracy: 0.9371\n",
            "Epoch 106/150\n",
            "93/93 [==============================] - 0s 2ms/step - loss: 0.2348 - accuracy: 0.9293\n",
            "Epoch 107/150\n",
            "93/93 [==============================] - 0s 2ms/step - loss: 0.2167 - accuracy: 0.9361\n",
            "Epoch 108/150\n",
            "93/93 [==============================] - 0s 2ms/step - loss: 0.2228 - accuracy: 0.9357\n",
            "Epoch 109/150\n",
            "93/93 [==============================] - 0s 2ms/step - loss: 0.2197 - accuracy: 0.9371\n",
            "Epoch 110/150\n",
            "93/93 [==============================] - 0s 2ms/step - loss: 0.2156 - accuracy: 0.9357\n",
            "Epoch 111/150\n",
            "93/93 [==============================] - 0s 2ms/step - loss: 0.2151 - accuracy: 0.9384\n",
            "Epoch 112/150\n",
            "93/93 [==============================] - 0s 2ms/step - loss: 0.2170 - accuracy: 0.9357\n",
            "Epoch 113/150\n",
            "93/93 [==============================] - 0s 2ms/step - loss: 0.2203 - accuracy: 0.9364\n",
            "Epoch 114/150\n",
            "93/93 [==============================] - 0s 2ms/step - loss: 0.2166 - accuracy: 0.9347\n",
            "Epoch 115/150\n",
            "93/93 [==============================] - 0s 2ms/step - loss: 0.2303 - accuracy: 0.9361\n",
            "Epoch 116/150\n",
            "93/93 [==============================] - 0s 2ms/step - loss: 0.2220 - accuracy: 0.9337\n",
            "Epoch 117/150\n",
            "93/93 [==============================] - 0s 2ms/step - loss: 0.2243 - accuracy: 0.9361\n",
            "Epoch 118/150\n",
            "93/93 [==============================] - 0s 2ms/step - loss: 0.2141 - accuracy: 0.9398\n",
            "Epoch 119/150\n",
            "93/93 [==============================] - 0s 2ms/step - loss: 0.2237 - accuracy: 0.9378\n",
            "Epoch 120/150\n",
            "93/93 [==============================] - 0s 2ms/step - loss: 0.2332 - accuracy: 0.9290\n",
            "Epoch 121/150\n",
            "93/93 [==============================] - 0s 2ms/step - loss: 0.2151 - accuracy: 0.9371\n",
            "Epoch 122/150\n",
            "93/93 [==============================] - 0s 3ms/step - loss: 0.2166 - accuracy: 0.9374\n",
            "Epoch 123/150\n",
            "93/93 [==============================] - 0s 3ms/step - loss: 0.2315 - accuracy: 0.9334\n",
            "Epoch 124/150\n",
            "93/93 [==============================] - 0s 4ms/step - loss: 0.2117 - accuracy: 0.9394\n",
            "Epoch 125/150\n",
            "93/93 [==============================] - 0s 3ms/step - loss: 0.2139 - accuracy: 0.9391\n",
            "Epoch 126/150\n",
            "93/93 [==============================] - 0s 2ms/step - loss: 0.2433 - accuracy: 0.9320\n",
            "Epoch 127/150\n",
            "93/93 [==============================] - 0s 2ms/step - loss: 0.2160 - accuracy: 0.9374\n",
            "Epoch 128/150\n",
            "93/93 [==============================] - 0s 3ms/step - loss: 0.2136 - accuracy: 0.9398\n",
            "Epoch 129/150\n",
            "93/93 [==============================] - 0s 3ms/step - loss: 0.2141 - accuracy: 0.9381\n",
            "Epoch 130/150\n",
            "93/93 [==============================] - 0s 3ms/step - loss: 0.2134 - accuracy: 0.9388\n",
            "Epoch 131/150\n",
            "93/93 [==============================] - 0s 3ms/step - loss: 0.2133 - accuracy: 0.9357\n",
            "Epoch 132/150\n",
            "93/93 [==============================] - 0s 3ms/step - loss: 0.2266 - accuracy: 0.9297\n",
            "Epoch 133/150\n",
            "93/93 [==============================] - 0s 3ms/step - loss: 0.2201 - accuracy: 0.9351\n",
            "Epoch 134/150\n",
            "93/93 [==============================] - 0s 2ms/step - loss: 0.2173 - accuracy: 0.9351\n",
            "Epoch 135/150\n",
            "93/93 [==============================] - 0s 2ms/step - loss: 0.2185 - accuracy: 0.9341\n",
            "Epoch 136/150\n",
            "93/93 [==============================] - 0s 2ms/step - loss: 0.2203 - accuracy: 0.9381\n",
            "Epoch 137/150\n",
            "93/93 [==============================] - 0s 2ms/step - loss: 0.2304 - accuracy: 0.9324\n",
            "Epoch 138/150\n",
            "93/93 [==============================] - 0s 2ms/step - loss: 0.2165 - accuracy: 0.9381\n",
            "Epoch 139/150\n",
            "93/93 [==============================] - 0s 2ms/step - loss: 0.2174 - accuracy: 0.9354\n",
            "Epoch 140/150\n",
            "93/93 [==============================] - 0s 2ms/step - loss: 0.2193 - accuracy: 0.9378\n",
            "Epoch 141/150\n",
            "93/93 [==============================] - 0s 2ms/step - loss: 0.2190 - accuracy: 0.9354\n",
            "Epoch 142/150\n",
            "93/93 [==============================] - 0s 2ms/step - loss: 0.2139 - accuracy: 0.9388\n",
            "Epoch 143/150\n",
            "93/93 [==============================] - 0s 2ms/step - loss: 0.2126 - accuracy: 0.9388\n",
            "Epoch 144/150\n",
            "93/93 [==============================] - 0s 2ms/step - loss: 0.2162 - accuracy: 0.9361\n",
            "Epoch 145/150\n",
            "93/93 [==============================] - 0s 2ms/step - loss: 0.2356 - accuracy: 0.9290\n",
            "Epoch 146/150\n",
            "93/93 [==============================] - 0s 2ms/step - loss: 0.2133 - accuracy: 0.9384\n",
            "Epoch 147/150\n",
            "93/93 [==============================] - 0s 2ms/step - loss: 0.2546 - accuracy: 0.9266\n",
            "Epoch 148/150\n",
            "93/93 [==============================] - 0s 2ms/step - loss: 0.2258 - accuracy: 0.9341\n",
            "Epoch 149/150\n",
            "93/93 [==============================] - 0s 2ms/step - loss: 0.2347 - accuracy: 0.9314\n",
            "Epoch 150/150\n",
            "93/93 [==============================] - 0s 2ms/step - loss: 0.2131 - accuracy: 0.9401\n"
          ]
        }
      ]
    },
    {
      "cell_type": "markdown",
      "source": [
        "### **Précision/perte par rapport aux epoques:**"
      ],
      "metadata": {
        "id": "XEXZAP8MErE-"
      }
    },
    {
      "cell_type": "code",
      "source": [
        "plt.plot(history.history['loss'])\n",
        "plt.plot(history.history['accuracy'])\n",
        "plt.title('Perte et Précision du modèle sans couche cachée')\n",
        "plt.xlabel('époque')\n",
        "plt.legend(['perte', 'précision'], loc='center')\n",
        "plt.show()"
      ],
      "metadata": {
        "id": "Sc6c_A1oErsr",
        "colab": {
          "base_uri": "https://localhost:8080/",
          "height": 296
        },
        "outputId": "c890b7f5-bcb5-44f7-b2a6-d7db73e9a09e"
      },
      "execution_count": null,
      "outputs": [
        {
          "output_type": "display_data",
          "data": {
            "text/plain": [
              "<Figure size 432x288 with 1 Axes>"
            ],
            "image/png": "[encoded data removed]"
          },
          "metadata": {
            "needs_background": "light"
          }
        }
      ]
    },
    {
      "cell_type": "markdown",
      "source": [
        "### **Test de la précision et de la perte du modèle avec les données de test:**"
      ],
      "metadata": {
        "id": "i7SWZiKmHqG7"
      }
    },
    {
      "cell_type": "code",
      "source": [
        "accuracy1 = M1.evaluate(test_x, test_y)\n",
        "print('Perte',accuracy1[0])\n",
        "print('Précision',accuracy1[1])"
      ],
      "metadata": {
        "id": "O9REBOFpHv0i",
        "colab": {
          "base_uri": "https://localhost:8080/"
        },
        "outputId": "fc075a84-3dd6-49c4-a291-1c54d3d53213"
      },
      "execution_count": null,
      "outputs": [
        {
          "output_type": "stream",
          "name": "stdout",
          "text": [
            "40/40 [==============================] - 0s 2ms/step - loss: 0.1808 - accuracy: 0.9388\n",
            "Perte 0.18084950745105743\n",
            "Précision 0.9387755393981934\n"
          ]
        }
      ]
    },
    {
      "cell_type": "markdown",
      "source": [
        "#**Modèle RN avec une couche cachée**"
      ],
      "metadata": {
        "id": "Fh8rPDCqIRFd"
      }
    },
    {
      "cell_type": "code",
      "source": [
        "M2 = tf.keras.models.Sequential()\n",
        "M2.add(tf.keras.layers.Dense(57, input_dim=57, activation='sigmoid'))\n",
        "M2.add(tf.keras.layers.Dense(1, activation='sigmoid'))\n",
        "M2.compile(loss='binary_crossentropy', optimizer='adam', metrics=['accuracy'])\n",
        "history = M2.fit(train_x, train_y, epochs= 150)"
      ],
      "metadata": {
        "id": "6_74NN0gIVkX",
        "colab": {
          "base_uri": "https://localhost:8080/"
        },
        "outputId": "726b9c9b-b0d3-40f0-ed65-2c4e2b9c0c24"
      },
      "execution_count": null,
      "outputs": [
        {
          "output_type": "stream",
          "name": "stdout",
          "text": [
            "Epoch 1/150\n",
            "93/93 [==============================] - 1s 2ms/step - loss: 0.6317 - accuracy: 0.6447\n",
            "Epoch 2/150\n",
            "93/93 [==============================] - 0s 2ms/step - loss: 0.4956 - accuracy: 0.7897\n",
            "Epoch 3/150\n",
            "93/93 [==============================] - 0s 2ms/step - loss: 0.4150 - accuracy: 0.8392\n",
            "Epoch 4/150\n",
            "93/93 [==============================] - 0s 2ms/step - loss: 0.3558 - accuracy: 0.8668\n",
            "Epoch 5/150\n",
            "93/93 [==============================] - 0s 2ms/step - loss: 0.3153 - accuracy: 0.8910\n",
            "Epoch 6/150\n",
            "93/93 [==============================] - 0s 2ms/step - loss: 0.2932 - accuracy: 0.9017\n",
            "Epoch 7/150\n",
            "93/93 [==============================] - 0s 2ms/step - loss: 0.2709 - accuracy: 0.9034\n",
            "Epoch 8/150\n",
            "93/93 [==============================] - 0s 2ms/step - loss: 0.2562 - accuracy: 0.9118\n",
            "Epoch 9/150\n",
            "93/93 [==============================] - 0s 2ms/step - loss: 0.2402 - accuracy: 0.9176\n",
            "Epoch 10/150\n",
            "93/93 [==============================] - 0s 2ms/step - loss: 0.2352 - accuracy: 0.9179\n",
            "Epoch 11/150\n",
            "93/93 [==============================] - 0s 2ms/step - loss: 0.2274 - accuracy: 0.9223\n",
            "Epoch 12/150\n",
            "93/93 [==============================] - 0s 2ms/step - loss: 0.2137 - accuracy: 0.9307\n",
            "Epoch 13/150\n",
            "93/93 [==============================] - 0s 2ms/step - loss: 0.2051 - accuracy: 0.9344\n",
            "Epoch 14/150\n",
            "93/93 [==============================] - 0s 3ms/step - loss: 0.2089 - accuracy: 0.9290\n",
            "Epoch 15/150\n",
            "93/93 [==============================] - 0s 2ms/step - loss: 0.2007 - accuracy: 0.9357\n",
            "Epoch 16/150\n",
            "93/93 [==============================] - 0s 2ms/step - loss: 0.1967 - accuracy: 0.9384\n",
            "Epoch 17/150\n",
            "93/93 [==============================] - 0s 2ms/step - loss: 0.1997 - accuracy: 0.9337\n",
            "Epoch 18/150\n",
            "93/93 [==============================] - 0s 2ms/step - loss: 0.1990 - accuracy: 0.9378\n",
            "Epoch 19/150\n",
            "93/93 [==============================] - 0s 2ms/step - loss: 0.1903 - accuracy: 0.9394\n",
            "Epoch 20/150\n",
            "93/93 [==============================] - 0s 2ms/step - loss: 0.1899 - accuracy: 0.9398\n",
            "Epoch 21/150\n",
            "93/93 [==============================] - 0s 2ms/step - loss: 0.1896 - accuracy: 0.9401\n",
            "Epoch 22/150\n",
            "93/93 [==============================] - 0s 2ms/step - loss: 0.1876 - accuracy: 0.9425\n",
            "Epoch 23/150\n",
            "93/93 [==============================] - 0s 2ms/step - loss: 0.1824 - accuracy: 0.9411\n",
            "Epoch 24/150\n",
            "93/93 [==============================] - 0s 3ms/step - loss: 0.1858 - accuracy: 0.9428\n",
            "Epoch 25/150\n",
            "93/93 [==============================] - 0s 2ms/step - loss: 0.1756 - accuracy: 0.9468\n",
            "Epoch 26/150\n",
            "93/93 [==============================] - 0s 2ms/step - loss: 0.1757 - accuracy: 0.9445\n",
            "Epoch 27/150\n",
            "93/93 [==============================] - 0s 3ms/step - loss: 0.1781 - accuracy: 0.9421\n",
            "Epoch 28/150\n",
            "93/93 [==============================] - 0s 2ms/step - loss: 0.1744 - accuracy: 0.9441\n",
            "Epoch 29/150\n",
            "93/93 [==============================] - 0s 2ms/step - loss: 0.1713 - accuracy: 0.9445\n",
            "Epoch 30/150\n",
            "93/93 [==============================] - 0s 2ms/step - loss: 0.1800 - accuracy: 0.9428\n",
            "Epoch 31/150\n",
            "93/93 [==============================] - 0s 2ms/step - loss: 0.1723 - accuracy: 0.9458\n",
            "Epoch 32/150\n",
            "93/93 [==============================] - 0s 2ms/step - loss: 0.1764 - accuracy: 0.9445\n",
            "Epoch 33/150\n",
            "93/93 [==============================] - 0s 2ms/step - loss: 0.1764 - accuracy: 0.9428\n",
            "Epoch 34/150\n",
            "93/93 [==============================] - 0s 2ms/step - loss: 0.1649 - accuracy: 0.9505\n",
            "Epoch 35/150\n",
            "93/93 [==============================] - 0s 2ms/step - loss: 0.1663 - accuracy: 0.9489\n",
            "Epoch 36/150\n",
            "93/93 [==============================] - 0s 2ms/step - loss: 0.1631 - accuracy: 0.9505\n",
            "Epoch 37/150\n",
            "93/93 [==============================] - 1s 7ms/step - loss: 0.1673 - accuracy: 0.9489\n",
            "Epoch 38/150\n",
            "93/93 [==============================] - 0s 2ms/step - loss: 0.1672 - accuracy: 0.9482\n",
            "Epoch 39/150\n",
            "93/93 [==============================] - 0s 2ms/step - loss: 0.1643 - accuracy: 0.9478\n",
            "Epoch 40/150\n",
            "93/93 [==============================] - 0s 4ms/step - loss: 0.1596 - accuracy: 0.9529\n",
            "Epoch 41/150\n",
            "93/93 [==============================] - 1s 5ms/step - loss: 0.1619 - accuracy: 0.9489\n",
            "Epoch 42/150\n",
            "93/93 [==============================] - 0s 2ms/step - loss: 0.1644 - accuracy: 0.9475\n",
            "Epoch 43/150\n",
            "93/93 [==============================] - 0s 4ms/step - loss: 0.1603 - accuracy: 0.9495\n",
            "Epoch 44/150\n",
            "93/93 [==============================] - 0s 5ms/step - loss: 0.1608 - accuracy: 0.9505\n",
            "Epoch 45/150\n",
            "93/93 [==============================] - 0s 2ms/step - loss: 0.1637 - accuracy: 0.9475\n",
            "Epoch 46/150\n",
            "93/93 [==============================] - 0s 2ms/step - loss: 0.1591 - accuracy: 0.9502\n",
            "Epoch 47/150\n",
            "93/93 [==============================] - 0s 2ms/step - loss: 0.1631 - accuracy: 0.9482\n",
            "Epoch 48/150\n",
            "93/93 [==============================] - 0s 2ms/step - loss: 0.1607 - accuracy: 0.9509\n",
            "Epoch 49/150\n",
            "93/93 [==============================] - 0s 3ms/step - loss: 0.1566 - accuracy: 0.9522\n",
            "Epoch 50/150\n",
            "93/93 [==============================] - 0s 2ms/step - loss: 0.1587 - accuracy: 0.9482\n",
            "Epoch 51/150\n",
            "93/93 [==============================] - 0s 2ms/step - loss: 0.1562 - accuracy: 0.9495\n",
            "Epoch 52/150\n",
            "93/93 [==============================] - 0s 2ms/step - loss: 0.1567 - accuracy: 0.9502\n",
            "Epoch 53/150\n",
            "93/93 [==============================] - 0s 2ms/step - loss: 0.1556 - accuracy: 0.9522\n",
            "Epoch 54/150\n",
            "93/93 [==============================] - 0s 2ms/step - loss: 0.1523 - accuracy: 0.9519\n",
            "Epoch 55/150\n",
            "93/93 [==============================] - 0s 2ms/step - loss: 0.1631 - accuracy: 0.9448\n",
            "Epoch 56/150\n",
            "93/93 [==============================] - 0s 2ms/step - loss: 0.1493 - accuracy: 0.9536\n",
            "Epoch 57/150\n",
            "93/93 [==============================] - 0s 2ms/step - loss: 0.1486 - accuracy: 0.9532\n",
            "Epoch 58/150\n",
            "93/93 [==============================] - 0s 2ms/step - loss: 0.1506 - accuracy: 0.9495\n",
            "Epoch 59/150\n",
            "93/93 [==============================] - 0s 2ms/step - loss: 0.1512 - accuracy: 0.9542\n",
            "Epoch 60/150\n",
            "93/93 [==============================] - 0s 2ms/step - loss: 0.1480 - accuracy: 0.9522\n",
            "Epoch 61/150\n",
            "93/93 [==============================] - 0s 2ms/step - loss: 0.1534 - accuracy: 0.9505\n",
            "Epoch 62/150\n",
            "93/93 [==============================] - 0s 2ms/step - loss: 0.1483 - accuracy: 0.9515\n",
            "Epoch 63/150\n",
            "93/93 [==============================] - 0s 2ms/step - loss: 0.1528 - accuracy: 0.9542\n",
            "Epoch 64/150\n",
            "93/93 [==============================] - 0s 2ms/step - loss: 0.1473 - accuracy: 0.9539\n",
            "Epoch 65/150\n",
            "93/93 [==============================] - 0s 2ms/step - loss: 0.1504 - accuracy: 0.9509\n",
            "Epoch 66/150\n",
            "93/93 [==============================] - 0s 2ms/step - loss: 0.1446 - accuracy: 0.9546\n",
            "Epoch 67/150\n",
            "93/93 [==============================] - 0s 2ms/step - loss: 0.1469 - accuracy: 0.9542\n",
            "Epoch 68/150\n",
            "93/93 [==============================] - 0s 2ms/step - loss: 0.1528 - accuracy: 0.9505\n",
            "Epoch 69/150\n",
            "93/93 [==============================] - 0s 2ms/step - loss: 0.1460 - accuracy: 0.9546\n",
            "Epoch 70/150\n",
            "93/93 [==============================] - 0s 2ms/step - loss: 0.1504 - accuracy: 0.9519\n",
            "Epoch 71/150\n",
            "93/93 [==============================] - 0s 2ms/step - loss: 0.1474 - accuracy: 0.9542\n",
            "Epoch 72/150\n",
            "93/93 [==============================] - 0s 2ms/step - loss: 0.1460 - accuracy: 0.9556\n",
            "Epoch 73/150\n",
            "93/93 [==============================] - 0s 2ms/step - loss: 0.1435 - accuracy: 0.9579\n",
            "Epoch 74/150\n",
            "93/93 [==============================] - 0s 2ms/step - loss: 0.1405 - accuracy: 0.9556\n",
            "Epoch 75/150\n",
            "93/93 [==============================] - 0s 2ms/step - loss: 0.1429 - accuracy: 0.9546\n",
            "Epoch 76/150\n",
            "93/93 [==============================] - 0s 2ms/step - loss: 0.1398 - accuracy: 0.9559\n",
            "Epoch 77/150\n",
            "93/93 [==============================] - 0s 2ms/step - loss: 0.1386 - accuracy: 0.9563\n",
            "Epoch 78/150\n",
            "93/93 [==============================] - 0s 2ms/step - loss: 0.1393 - accuracy: 0.9579\n",
            "Epoch 79/150\n",
            "93/93 [==============================] - 0s 2ms/step - loss: 0.1410 - accuracy: 0.9556\n",
            "Epoch 80/150\n",
            "93/93 [==============================] - 0s 2ms/step - loss: 0.1406 - accuracy: 0.9569\n",
            "Epoch 81/150\n",
            "93/93 [==============================] - 0s 2ms/step - loss: 0.1387 - accuracy: 0.9566\n",
            "Epoch 82/150\n",
            "93/93 [==============================] - 0s 2ms/step - loss: 0.1357 - accuracy: 0.9579\n",
            "Epoch 83/150\n",
            "93/93 [==============================] - 0s 2ms/step - loss: 0.1383 - accuracy: 0.9579\n",
            "Epoch 84/150\n",
            "93/93 [==============================] - 0s 2ms/step - loss: 0.1409 - accuracy: 0.9556\n",
            "Epoch 85/150\n",
            "93/93 [==============================] - 0s 2ms/step - loss: 0.1427 - accuracy: 0.9559\n",
            "Epoch 86/150\n",
            "93/93 [==============================] - 0s 2ms/step - loss: 0.1436 - accuracy: 0.9539\n",
            "Epoch 87/150\n",
            "93/93 [==============================] - 0s 2ms/step - loss: 0.1409 - accuracy: 0.9573\n",
            "Epoch 88/150\n",
            "93/93 [==============================] - 0s 2ms/step - loss: 0.1368 - accuracy: 0.9583\n",
            "Epoch 89/150\n",
            "93/93 [==============================] - 0s 3ms/step - loss: 0.1357 - accuracy: 0.9579\n",
            "Epoch 90/150\n",
            "93/93 [==============================] - 0s 2ms/step - loss: 0.1344 - accuracy: 0.9566\n",
            "Epoch 91/150\n",
            "93/93 [==============================] - 0s 2ms/step - loss: 0.1336 - accuracy: 0.9576\n",
            "Epoch 92/150\n",
            "93/93 [==============================] - 0s 2ms/step - loss: 0.1368 - accuracy: 0.9590\n",
            "Epoch 93/150\n",
            "93/93 [==============================] - 0s 2ms/step - loss: 0.1329 - accuracy: 0.9590\n",
            "Epoch 94/150\n",
            "93/93 [==============================] - 0s 2ms/step - loss: 0.1332 - accuracy: 0.9600\n",
            "Epoch 95/150\n",
            "93/93 [==============================] - 0s 2ms/step - loss: 0.1348 - accuracy: 0.9583\n",
            "Epoch 96/150\n",
            "93/93 [==============================] - 0s 2ms/step - loss: 0.1316 - accuracy: 0.9590\n",
            "Epoch 97/150\n",
            "93/93 [==============================] - 0s 2ms/step - loss: 0.1289 - accuracy: 0.9606\n",
            "Epoch 98/150\n",
            "93/93 [==============================] - 0s 2ms/step - loss: 0.1379 - accuracy: 0.9569\n",
            "Epoch 99/150\n",
            "93/93 [==============================] - 0s 3ms/step - loss: 0.1330 - accuracy: 0.9573\n",
            "Epoch 100/150\n",
            "93/93 [==============================] - 0s 2ms/step - loss: 0.1358 - accuracy: 0.9583\n",
            "Epoch 101/150\n",
            "93/93 [==============================] - 0s 2ms/step - loss: 0.1330 - accuracy: 0.9603\n",
            "Epoch 102/150\n",
            "93/93 [==============================] - 0s 3ms/step - loss: 0.1298 - accuracy: 0.9637\n",
            "Epoch 103/150\n",
            "93/93 [==============================] - 0s 2ms/step - loss: 0.1296 - accuracy: 0.9633\n",
            "Epoch 104/150\n",
            "93/93 [==============================] - 0s 2ms/step - loss: 0.1356 - accuracy: 0.9576\n",
            "Epoch 105/150\n",
            "93/93 [==============================] - 0s 2ms/step - loss: 0.1371 - accuracy: 0.9596\n",
            "Epoch 106/150\n",
            "93/93 [==============================] - 0s 2ms/step - loss: 0.1385 - accuracy: 0.9579\n",
            "Epoch 107/150\n",
            "93/93 [==============================] - 0s 2ms/step - loss: 0.1313 - accuracy: 0.9610\n",
            "Epoch 108/150\n",
            "93/93 [==============================] - 0s 2ms/step - loss: 0.1304 - accuracy: 0.9600\n",
            "Epoch 109/150\n",
            "93/93 [==============================] - 0s 2ms/step - loss: 0.1320 - accuracy: 0.9549\n",
            "Epoch 110/150\n",
            "93/93 [==============================] - 0s 2ms/step - loss: 0.1307 - accuracy: 0.9600\n",
            "Epoch 111/150\n",
            "93/93 [==============================] - 0s 2ms/step - loss: 0.1265 - accuracy: 0.9593\n",
            "Epoch 112/150\n",
            "93/93 [==============================] - 0s 2ms/step - loss: 0.1289 - accuracy: 0.9606\n",
            "Epoch 113/150\n",
            "93/93 [==============================] - 0s 2ms/step - loss: 0.1285 - accuracy: 0.9593\n",
            "Epoch 114/150\n",
            "93/93 [==============================] - 0s 2ms/step - loss: 0.1275 - accuracy: 0.9627\n",
            "Epoch 115/150\n",
            "93/93 [==============================] - 0s 2ms/step - loss: 0.1242 - accuracy: 0.9637\n",
            "Epoch 116/150\n",
            "93/93 [==============================] - 0s 3ms/step - loss: 0.1336 - accuracy: 0.9596\n",
            "Epoch 117/150\n",
            "93/93 [==============================] - 0s 3ms/step - loss: 0.1309 - accuracy: 0.9600\n",
            "Epoch 118/150\n",
            "93/93 [==============================] - 0s 2ms/step - loss: 0.1268 - accuracy: 0.9643\n",
            "Epoch 119/150\n",
            "93/93 [==============================] - 0s 2ms/step - loss: 0.1255 - accuracy: 0.9616\n",
            "Epoch 120/150\n",
            "93/93 [==============================] - 0s 2ms/step - loss: 0.1244 - accuracy: 0.9620\n",
            "Epoch 121/150\n",
            "93/93 [==============================] - 0s 3ms/step - loss: 0.1298 - accuracy: 0.9590\n",
            "Epoch 122/150\n",
            "93/93 [==============================] - 0s 2ms/step - loss: 0.1239 - accuracy: 0.9627\n",
            "Epoch 123/150\n",
            "93/93 [==============================] - 0s 2ms/step - loss: 0.1269 - accuracy: 0.9613\n",
            "Epoch 124/150\n",
            "93/93 [==============================] - 0s 3ms/step - loss: 0.1250 - accuracy: 0.9620\n",
            "Epoch 125/150\n",
            "93/93 [==============================] - 0s 2ms/step - loss: 0.1247 - accuracy: 0.9637\n",
            "Epoch 126/150\n",
            "93/93 [==============================] - 0s 2ms/step - loss: 0.1204 - accuracy: 0.9627\n",
            "Epoch 127/150\n",
            "93/93 [==============================] - 0s 2ms/step - loss: 0.1238 - accuracy: 0.9610\n",
            "Epoch 128/150\n",
            "93/93 [==============================] - 0s 2ms/step - loss: 0.1235 - accuracy: 0.9640\n",
            "Epoch 129/150\n",
            "93/93 [==============================] - 0s 2ms/step - loss: 0.1248 - accuracy: 0.9613\n",
            "Epoch 130/150\n",
            "93/93 [==============================] - 0s 3ms/step - loss: 0.1245 - accuracy: 0.9650\n",
            "Epoch 131/150\n",
            "93/93 [==============================] - 0s 2ms/step - loss: 0.1235 - accuracy: 0.9637\n",
            "Epoch 132/150\n",
            "93/93 [==============================] - 0s 2ms/step - loss: 0.1213 - accuracy: 0.9653\n",
            "Epoch 133/150\n",
            "93/93 [==============================] - 0s 2ms/step - loss: 0.1231 - accuracy: 0.9643\n",
            "Epoch 134/150\n",
            "93/93 [==============================] - 0s 3ms/step - loss: 0.1219 - accuracy: 0.9647\n",
            "Epoch 135/150\n",
            "93/93 [==============================] - 0s 3ms/step - loss: 0.1206 - accuracy: 0.9637\n",
            "Epoch 136/150\n",
            "93/93 [==============================] - 0s 2ms/step - loss: 0.1219 - accuracy: 0.9647\n",
            "Epoch 137/150\n",
            "93/93 [==============================] - 0s 2ms/step - loss: 0.1195 - accuracy: 0.9633\n",
            "Epoch 138/150\n",
            "93/93 [==============================] - 0s 3ms/step - loss: 0.1155 - accuracy: 0.9660\n",
            "Epoch 139/150\n",
            "93/93 [==============================] - 0s 2ms/step - loss: 0.1243 - accuracy: 0.9620\n",
            "Epoch 140/150\n",
            "93/93 [==============================] - 0s 2ms/step - loss: 0.1180 - accuracy: 0.9657\n",
            "Epoch 141/150\n",
            "93/93 [==============================] - 0s 2ms/step - loss: 0.1152 - accuracy: 0.9667\n",
            "Epoch 142/150\n",
            "93/93 [==============================] - 0s 2ms/step - loss: 0.1152 - accuracy: 0.9667\n",
            "Epoch 143/150\n",
            "93/93 [==============================] - 0s 2ms/step - loss: 0.1214 - accuracy: 0.9633\n",
            "Epoch 144/150\n",
            "93/93 [==============================] - 0s 2ms/step - loss: 0.1148 - accuracy: 0.9660\n",
            "Epoch 145/150\n",
            "93/93 [==============================] - 0s 2ms/step - loss: 0.1113 - accuracy: 0.9677\n",
            "Epoch 146/150\n",
            "93/93 [==============================] - 0s 2ms/step - loss: 0.1176 - accuracy: 0.9657\n",
            "Epoch 147/150\n",
            "93/93 [==============================] - 0s 2ms/step - loss: 0.1181 - accuracy: 0.9667\n",
            "Epoch 148/150\n",
            "93/93 [==============================] - 0s 2ms/step - loss: 0.1202 - accuracy: 0.9657\n",
            "Epoch 149/150\n",
            "93/93 [==============================] - 0s 2ms/step - loss: 0.1147 - accuracy: 0.9684\n",
            "Epoch 150/150\n",
            "93/93 [==============================] - 0s 3ms/step - loss: 0.1162 - accuracy: 0.9660\n"
          ]
        }
      ]
    },
    {
      "cell_type": "markdown",
      "source": [
        "### **Précision/perte par rapport aux epoques:**"
      ],
      "metadata": {
        "id": "NS-DQrJ0JEHp"
      }
    },
    {
      "cell_type": "code",
      "source": [
        "plt.plot(history.history['loss'])\n",
        "plt.plot(history.history['accuracy'])\n",
        "plt.title('Précision et perte du modèle avec une couche cachée')\n",
        "plt.xlabel('époque')\n",
        "plt.legend(['loss', 'accuracy'], loc='center right')\n",
        "plt.show()"
      ],
      "metadata": {
        "id": "Ek3dXa0oJF8C",
        "colab": {
          "base_uri": "https://localhost:8080/",
          "height": 296
        },
        "outputId": "cd128859-eb10-4e73-a434-4dbdd83bd41d"
      },
      "execution_count": null,
      "outputs": [
        {
          "output_type": "display_data",
          "data": {
            "text/plain": [
              "<Figure size 432x288 with 1 Axes>"
            ],
            "image/png": "[encoded data removed]"
          },
          "metadata": {
            "needs_background": "light"
          }
        }
      ]
    },
    {
      "cell_type": "markdown",
      "source": [
        "### **Test de la précision et de la perte du modèle avec les données de test:**\n"
      ],
      "metadata": {
        "id": "DZYUwCd0JMth"
      }
    },
    {
      "cell_type": "code",
      "source": [
        "accuracy2 = M2.evaluate(test_x, test_y)\n",
        "print('Perte',accuracy2[0])\n",
        "print('Précision',accuracy2[1])"
      ],
      "metadata": {
        "id": "KkPQF1cqJNol",
        "colab": {
          "base_uri": "https://localhost:8080/"
        },
        "outputId": "72fc020e-0f1e-4886-aba3-bf64e44f7c3e"
      },
      "execution_count": null,
      "outputs": [
        {
          "output_type": "stream",
          "name": "stdout",
          "text": [
            "40/40 [==============================] - 0s 2ms/step - loss: 0.1243 - accuracy: 0.9623\n",
            "Perte 0.12429545074701309\n",
            "Précision 0.9623233675956726\n"
          ]
        }
      ]
    },
    {
      "cell_type": "markdown",
      "source": [
        "# **Modèle basé sur réseau de Bayes naif**"
      ],
      "metadata": {
        "id": "OoZoxxd6KeW8"
      }
    },
    {
      "cell_type": "markdown",
      "source": [
        "### **Séparation des données en Spam et non Spam:**"
      ],
      "metadata": {
        "id": "NHlT0jkhPAj_"
      }
    },
    {
      "cell_type": "code",
      "source": [
        "train_yr = train_y.reshape(train_y.shape[0],1)\n",
        "FullT= numpy.hstack((train_x, train_yr))\n",
        "\n",
        "SpamT= FullT[FullT[:, -1] == 1]\n",
        "NotSpamT = FullT[FullT[:, -1] == 0]\n",
        "x_Spam = SpamT[:,:-1]\n",
        "x_NotSpam = NotSpamT[:,:-1]\n",
        "\n"
      ],
      "metadata": {
        "id": "TjeUtjHCOACK"
      },
      "execution_count": null,
      "outputs": []
    },
    {
      "cell_type": "markdown",
      "source": [
        "### **Calcul de la variance et de l'esperance:**"
      ],
      "metadata": {
        "id": "kcYA7NgaPfXu"
      }
    },
    {
      "cell_type": "code",
      "source": [
        "taille_x_Spam = x_Spam.shape[0]\n",
        "taille_x_NotSpam = x_NotSpam.shape[0]\n",
        "\n",
        "vari_spam=[None] * x_Spam.shape[1]\n",
        "vari_notspam=[None] * x_NotSpam.shape[1]\n",
        "\n",
        "esper_spam = x_Spam.sum(axis=0) / taille_x_Spam\n",
        "esper_notspam = x_NotSpam.sum(axis=0) / taille_x_NotSpam\n",
        "\n",
        "for column in range(x_Spam.shape[1]):\n",
        "  all = 0\n",
        "  for row in range(x_Spam.shape[0]) :\n",
        "    all += (esper_spam[column] - x_Spam[row][column])**2\n",
        "\n",
        "  vari_spam[column] = all / (taille_x_Spam -1)\n",
        "\n",
        "for column in range(x_NotSpam.shape[1]):\n",
        "  all = 0\n",
        "  for row in range(x_NotSpam.shape[0]) :\n",
        "    all += (esper_notspam[column] - x_NotSpam[row][column])**2\n",
        "  vari_notspam[column] = all / (taille_x_NotSpam -1)\n"
      ],
      "metadata": {
        "id": "anspOA6EPvFn"
      },
      "execution_count": null,
      "outputs": []
    },
    {
      "cell_type": "markdown",
      "source": [
        "### **Définition de la méthode de prédiction:**"
      ],
      "metadata": {
        "id": "y8pHrBYRRBGQ"
      }
    },
    {
      "cell_type": "code",
      "source": [
        "def prediction(tab):\n",
        "  proba_notspam = taille_x_NotSpam / (taille_x_Spam + taille_x_NotSpam)\n",
        "  for column in range(x_NotSpam.shape[1]) :\n",
        "    try:\n",
        "      x=  1 / math.sqrt( 2 * math.pi * vari_notspam[column] )\n",
        "      y= -1 / ( 2 * vari_notspam[column] )\n",
        "      z=  (esper_notspam[column] - tab[column])**2\n",
        "      f = x * math.exp(z*y)\n",
        "      prob_notspam = proba_notspam * f\n",
        "    except ZeroDivisionError:\n",
        "      pass\n",
        "  prob_spam = taille_x_NotSpam / (taille_x_Spam + taille_x_NotSpam)\n",
        "  for column in range(x_NotSpam.shape[1]) :\n",
        "    try:\n",
        "      x=  1 / math.sqrt( 2 * math.pi * vari_spam[column] )\n",
        "      y= -1 / ( 2 * vari_spam[column] )\n",
        "      z=  (esper_spam[column] - tab[column])**2\n",
        "      f = x * math.exp(z*y)\n",
        "      prob_spam = prob_spam * f\n",
        "    except ZeroDivisionError:\n",
        "      pass\n",
        "  if(prob_notspam>prob_spam):\n",
        "    return 0\n",
        "  else :\n",
        "    return 1"
      ],
      "metadata": {
        "id": "mP5Ocv4MRCwv"
      },
      "execution_count": null,
      "outputs": []
    },
    {
      "cell_type": "markdown",
      "source": [
        "### **Test de précision:**"
      ],
      "metadata": {
        "id": "pGVa-8OIRG2e"
      }
    },
    {
      "cell_type": "code",
      "source": [
        "vrai = 0\n",
        "all = 0\n",
        "for i in range(test_x.shape[0]):\n",
        "  prediction_result = prediction(test_x[i])\n",
        "  if (prediction_result == test_y[i]):\n",
        "    vrai+=1\n",
        "  all +=1\n",
        "pres =  vrai / all\n",
        "print(\"vrai = \",vrai)\n",
        "print(\"total = \",all)\n",
        "print(\"précision = \",pres)\n",
        "accuracy3 = [(1-pres), pres]\n"
      ],
      "metadata": {
        "id": "jwz9Q4RRRHMO",
        "colab": {
          "base_uri": "https://localhost:8080/"
        },
        "outputId": "7a595aa1-6391-449e-b24f-1ae539daa4a2"
      },
      "execution_count": null,
      "outputs": [
        {
          "output_type": "stream",
          "name": "stdout",
          "text": [
            "vrai =  913\n",
            "total =  1274\n",
            "précision =  0.716640502354788\n"
          ]
        }
      ]
    },
    {
      "cell_type": "markdown",
      "source": [
        "# **Comparaison des trois modèles:**"
      ],
      "metadata": {
        "id": "VmtJ7y1HOa12"
      }
    },
    {
      "cell_type": "code",
      "source": [
        "ax = plt.subplot(111)\n",
        "plt.plot(accuracy1)\n",
        "plt.plot(accuracy2)\n",
        "plt.plot(accuracy3)\n",
        "plt.title(\"Comparaison des précisions\")\n",
        "ax.legend(('RN sans couches cachées','RN avec une seule couche cachée', 'Classifieur bayésien'))"
      ],
      "metadata": {
        "id": "h26jHVwUOkJB",
        "colab": {
          "base_uri": "https://localhost:8080/",
          "height": 298
        },
        "outputId": "15070814-fc45-4a78-a855-2f0b21c64e64"
      },
      "execution_count": null,
      "outputs": [
        {
          "output_type": "execute_result",
          "data": {
            "text/plain": [
              "<matplotlib.legend.Legend at 0x7fdabf64abd0>"
            ]
          },
          "metadata": {},
          "execution_count": 19
        },
        {
          "output_type": "display_data",
          "data": {
            "text/plain": [
              "<Figure size 432x288 with 1 Axes>"
            ],
            "image/png": "[encoded data removed]"
          },
          "metadata": {
            "needs_background": "light"
          }
        }
      ]
    }
  ]
}